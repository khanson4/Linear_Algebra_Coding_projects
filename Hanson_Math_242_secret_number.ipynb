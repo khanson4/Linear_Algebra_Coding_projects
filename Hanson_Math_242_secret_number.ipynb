{
  "nbformat": 4,
  "nbformat_minor": 0,
  "metadata": {
    "colab": {
      "name": "Hanson Math_242_secret_number.ipynb",
      "provenance": [],
      "include_colab_link": true
    },
    "kernelspec": {
      "name": "python3",
      "display_name": "Python 3"
    }
  },
  "cells": [
    {
      "cell_type": "markdown",
      "metadata": {
        "id": "view-in-github",
        "colab_type": "text"
      },
      "source": [
        "<a href=\"https://colab.research.google.com/github/khanson4/Linear_Algebra_Coding_projects/blob/main/Hanson_Math_242_secret_number.ipynb\" target=\"_parent\"><img src=\"https://colab.research.google.com/assets/colab-badge.svg\" alt=\"Open In Colab\"/></a>"
      ]
    },
    {
      "cell_type": "markdown",
      "metadata": {
        "id": "Ry_o-kLL_-wf"
      },
      "source": [
        "# Load the preliminary code"
      ]
    },
    {
      "cell_type": "code",
      "metadata": {
        "id": "dhOLtwrRRc9S"
      },
      "source": [
        "import matplotlib.pyplot as plt\n",
        "from sympy import Poly\n",
        "import sympy as sym\n",
        "import numpy as np\n",
        "from numpy import c_\n",
        "\n",
        "# We'll specify that x and t are variables:\n",
        "x, t = sym.symbols('x, t')\n",
        "\n",
        "ll = \"loaded\""
      ],
      "execution_count": 1,
      "outputs": []
    },
    {
      "cell_type": "code",
      "metadata": {
        "id": "AHRXKhal_Wcj",
        "colab": {
          "base_uri": "https://localhost:8080/"
        },
        "outputId": "1a1b1c2a-8452-4930-92d8-1fe1db7e6656"
      },
      "source": [
        "lll = \" correctly!\"\n",
        "\n",
        "def rref(matrix):\n",
        "    A = np.array(matrix, dtype=np.float64)\n",
        "    \n",
        "    r = 0 #row\n",
        "    c = 0 #column\n",
        "\n",
        "    (maxr, maxc) = A.shape\n",
        "\n",
        "    prev_row_pivot = -1   # The previous row with a leading term:\n",
        "    tmp_pivot_row = -1\n",
        "    this_pivot_row = -1\n",
        "\n",
        "    for c in range(maxc):  # go through each column\n",
        "      tmp_pivot_row = -1  # reset the tmp pivot row\n",
        "      this_pivot_row = -1  # reset this pivot row\n",
        "      for r in range(maxr):  # Find the leading term in this column below prev_row_pivot\n",
        "        if ((r > prev_row_pivot) and (A[r][c] != 0.0)):\n",
        "          tmp_pivot_row = r  # find the new pivot row\n",
        "      if (tmp_pivot_row > -1):  # we found a candidate for the leading term:\n",
        "        #swap row this_pivot_row with (prev_row_pivot + 1)\n",
        "        A[[tmp_pivot_row, prev_row_pivot+1]] = A[[prev_row_pivot + 1, tmp_pivot_row]]\n",
        "        #set this_pivot_row to prev_row_pivot+1\n",
        "        this_pivot_row = prev_row_pivot + 1\n",
        "        #Now, normalize the row based on the pivot value:\n",
        "        A[ this_pivot_row ] = A[ this_pivot_row ] / A[ this_pivot_row ][c]\n",
        "        #Then, use this row to force 0's above and below the pivot entry:\n",
        "        #subtract multiples of of the this_pivot_row row from the others\n",
        "        for r_ in range(len(A)):\n",
        "            if r_ != this_pivot_row:\n",
        "                A[r_] = A[r_] - A[this_pivot_row] * A[r_][c] / A[this_pivot_row][c]\n",
        "        prev_row_pivot = this_pivot_row\n",
        "    return A    \n",
        "    \n",
        "    \n",
        "\n",
        "print(\">> The page \", ll, lll)"
      ],
      "execution_count": 2,
      "outputs": [
        {
          "output_type": "stream",
          "name": "stdout",
          "text": [
            ">> The page  loaded  correctly!\n"
          ]
        }
      ]
    },
    {
      "cell_type": "markdown",
      "metadata": {
        "id": "xVLAg1tp7aJX"
      },
      "source": [
        "# Set up the secret number"
      ]
    },
    {
      "cell_type": "markdown",
      "metadata": {
        "id": "2c12Csd440sV"
      },
      "source": [
        "You'll encode a secret number $s$ into a 4th or 5th degree polynomial as its vertical intercept.\n",
        "\n",
        "Once you've chosen $s$, then create a 4th or 5th degree polynomial $f$ such that the vertical intercept is $s$.\n"
      ]
    },
    {
      "cell_type": "code",
      "metadata": {
        "id": "bSeZFmS4vQWk",
        "colab": {
          "base_uri": "https://localhost:8080/",
          "height": 38
        },
        "outputId": "de890189-d1ad-435c-b303-9d1a6a1d735f"
      },
      "source": [
        "# the secret number is s:\n",
        "\n",
        "s = 14\n",
        "\n",
        "p = Poly(14+2*x + 3*x**18, x, domain='RR')\n",
        "\n",
        "p"
      ],
      "execution_count": null,
      "outputs": [
        {
          "output_type": "execute_result",
          "data": {
            "text/latex": "$\\displaystyle \\operatorname{Poly}{\\left( 3.0 x^{18} + 2.0 x + 14.0, x, domain=\\mathbb{R} \\right)}$",
            "text/plain": [
              "Poly(3.0*x**18 + 2.0*x + 14.0, x, domain='RR')"
            ]
          },
          "metadata": {},
          "execution_count": 3
        }
      ]
    },
    {
      "cell_type": "code",
      "metadata": {
        "id": "buHLWqEJ5Hds",
        "colab": {
          "base_uri": "https://localhost:8080/",
          "height": 37
        },
        "outputId": "40c08b26-7355-4b7f-f927-be3876dec131"
      },
      "source": [
        "#  Change this to evaluate the polynomial at 0:\n",
        "p.eval(x, 2.1)\n",
        "\n",
        "# Check that this is your secret number:"
      ],
      "execution_count": null,
      "outputs": [
        {
          "output_type": "execute_result",
          "data": {
            "text/latex": "$\\displaystyle 1892660.57719015$",
            "text/plain": [
              "1892660.57719015"
            ]
          },
          "metadata": {},
          "execution_count": 4
        }
      ]
    },
    {
      "cell_type": "markdown",
      "metadata": {
        "id": "ls3V1Lrnyr2P"
      },
      "source": [
        "# Generate your data points\n",
        "\n",
        "Use this code to generate the data points for your polynomial.  Write the data on the second page of your handout.  \n",
        "\n",
        "Writing \n",
        "\n",
        "```\n",
        "p.eval(x, 3)\n",
        "```\n",
        "\n",
        "will evaluate $p$ when $x = 3$.  Just change the $3$ to any value to evaluate $p$ at that input.\n",
        "\n",
        "Remember:  Keep your secret number and polynomial hidden."
      ]
    },
    {
      "cell_type": "code",
      "metadata": {
        "id": "5Ef1euoHynYu",
        "colab": {
          "base_uri": "https://localhost:8080/",
          "height": 37
        },
        "outputId": "8721233f-8fee-4a98-984e-7c6a1638d5f5"
      },
      "source": [
        "p.eval(x, 3)"
      ],
      "execution_count": null,
      "outputs": [
        {
          "output_type": "execute_result",
          "data": {
            "text/latex": "$\\displaystyle 1162261487.0$",
            "text/plain": [
              "1162261487.00000"
            ]
          },
          "metadata": {},
          "execution_count": 5
        }
      ]
    },
    {
      "cell_type": "markdown",
      "metadata": {
        "id": "a6e9mXs-z3qV"
      },
      "source": [
        "#  Decode the polynomial from another group\n",
        "\n",
        "In this section, we set up a linear system to find the polynomial and the secret number which was given to us by another group.\n",
        "\n",
        "First, set up a linear algebra system to find the polynomial on the handout and then enter the matrix here.  You may have to adjust the size of the matrix below to accommodate your data."
      ]
    },
    {
      "cell_type": "code",
      "metadata": {
        "id": "aC4OSnZ20YDh",
        "colab": {
          "base_uri": "https://localhost:8080/"
        },
        "outputId": "182b7e8a-b2a0-4908-9c4a-af2f0380a46d"
      },
      "source": [
        "# create the matrix:\n",
        "A = np.matrix([[(-6)**5, (-6)**4, (-6)**3, (-6)**2, (-6)**1, 1],\n",
        "               [(-1)**5, (-1)**4, (-1)**3, (-1)**2, (-1)**1, 1],\n",
        "               [1**5, 1**4, 1**3, 1**2, 1**1, 1],\n",
        "               [(-4)**5, (-4)**4, (-4)**3, (-4)**2, (-4)**1, 1],\n",
        "               [2**5, 2**4, 2**3, 2**2, 2**1, 1],\n",
        "               [9**5, 9**4, 9**3, 9**2, 9**1, 1]])\n",
        " \n",
        "# create the vector for the right hand side:\n",
        "b = np.matrix([[(15114/7)], [(-18/21)], [(120/7)], [(4020/14)], [(2002/14)], [(187104/7)]])\n",
        "\n",
        "#Make sure the system looks appropriate:\n",
        "\n",
        "print(np.c_[A,b])"
      ],
      "execution_count": 3,
      "outputs": [
        {
          "output_type": "stream",
          "name": "stdout",
          "text": [
            "[[-7.77600000e+03  1.29600000e+03 -2.16000000e+02  3.60000000e+01\n",
            "  -6.00000000e+00  1.00000000e+00  2.15914286e+03]\n",
            " [-1.00000000e+00  1.00000000e+00 -1.00000000e+00  1.00000000e+00\n",
            "  -1.00000000e+00  1.00000000e+00 -8.57142857e-01]\n",
            " [ 1.00000000e+00  1.00000000e+00  1.00000000e+00  1.00000000e+00\n",
            "   1.00000000e+00  1.00000000e+00  1.71428571e+01]\n",
            " [-1.02400000e+03  2.56000000e+02 -6.40000000e+01  1.60000000e+01\n",
            "  -4.00000000e+00  1.00000000e+00  2.87142857e+02]\n",
            " [ 3.20000000e+01  1.60000000e+01  8.00000000e+00  4.00000000e+00\n",
            "   2.00000000e+00  1.00000000e+00  1.43000000e+02]\n",
            " [ 5.90490000e+04  6.56100000e+03  7.29000000e+02  8.10000000e+01\n",
            "   9.00000000e+00  1.00000000e+00  2.67291429e+04]]\n"
          ]
        }
      ]
    },
    {
      "cell_type": "markdown",
      "metadata": {
        "id": "EDZT8emc5iGZ"
      },
      "source": [
        "##  Solve using Row Operations:\n",
        "\n",
        "We'll solve the augmented matrix  $\\left( A \\, | \\, \\vec{b} \\right)$ using the function\n",
        "\n",
        "```\n",
        "rref(np.c_[A,b])\n",
        "```\n",
        "\n",
        "to provide the reduced row echelon form of the matrix system $\\left(A \\, | \\, \\vec{b} \\right)$.\n"
      ]
    },
    {
      "cell_type": "code",
      "metadata": {
        "id": "9Qhe2zZjYAVL",
        "colab": {
          "base_uri": "https://localhost:8080/"
        },
        "outputId": "ae6f6e3b-36d7-4a50-e8d4-dcac379580eb"
      },
      "source": [
        "print(rref(np.c_[A,b]))"
      ],
      "execution_count": 4,
      "outputs": [
        {
          "output_type": "stream",
          "name": "stdout",
          "text": [
            "[[ 1.00000000e+00  0.00000000e+00  0.00000000e+00  0.00000000e+00\n",
            "   0.00000000e+00  0.00000000e+00  1.41723356e-04]\n",
            " [ 0.00000000e+00  1.00000000e+00  0.00000000e+00  0.00000000e+00\n",
            "   0.00000000e+00  0.00000000e+00  3.00014172e+00]\n",
            " [ 0.00000000e+00  0.00000000e+00  1.00000000e+00  0.00000000e+00\n",
            "   0.00000000e+00  0.00000000e+00  8.99050454e+00]\n",
            " [ 0.00000000e+00  0.00000000e+00  0.00000000e+00  1.00000000e+00\n",
            "   0.00000000e+00  0.00000000e+00  5.96924603e+00]\n",
            " [ 0.00000000e+00  0.00000000e+00  0.00000000e+00  0.00000000e+00\n",
            "   1.00000000e+00  0.00000000e+00  9.35374150e-03]\n",
            " [-0.00000000e+00 -0.00000000e+00 -0.00000000e+00 -0.00000000e+00\n",
            "  -0.00000000e+00  1.00000000e+00 -8.26530612e-01]]\n"
          ]
        }
      ]
    },
    {
      "cell_type": "markdown",
      "metadata": {
        "id": "6xHgTqYr1fuP"
      },
      "source": [
        "## Solve the system using numerical methods:\n",
        "\n",
        "We can also generate a solution using some more advanced numerical linear algebra techniques contained inside Numpy.\n",
        "\n",
        "To solve it this way, use:\n",
        "\n",
        "\n",
        "\n",
        "```\n",
        "np.linalg.solve(A,b)\n",
        "```\n",
        "\n",
        "or\n",
        "\n",
        "```\n",
        "np.linalg.lstsq(A,b,rcond=None)\n",
        "```\n",
        "\n"
      ]
    },
    {
      "cell_type": "code",
      "metadata": {
        "id": "769dXoztlBcx",
        "colab": {
          "base_uri": "https://localhost:8080/"
        },
        "outputId": "d9d862c4-cbb2-4823-f43a-c55fe927ddff"
      },
      "source": [
        "# Solve the system using a numerical linear algebra solution:\n",
        "np.linalg.solve(A,b)"
      ],
      "execution_count": null,
      "outputs": [
        {
          "output_type": "execute_result",
          "data": {
            "text/plain": [
              "matrix([[ 0.45736434],\n",
              "        [-0.62790698],\n",
              "        [ 0.24031008]])"
            ]
          },
          "metadata": {},
          "execution_count": 8
        }
      ]
    },
    {
      "cell_type": "code",
      "metadata": {
        "id": "ZEjNcqQvQbYo"
      },
      "source": [
        "# Solve the system using the numerical least squares method:\n",
        "np.linalg.lstsq(A,b,rcond=None)"
      ],
      "execution_count": null,
      "outputs": []
    }
  ]
}