{
  "nbformat": 4,
  "nbformat_minor": 0,
  "metadata": {
    "colab": {
      "name": "Gram Schmidt Process Hanson",
      "provenance": [],
      "authorship_tag": "ABX9TyNsbSwtsGH1yOaWTGOUnXD5",
      "include_colab_link": true
    },
    "kernelspec": {
      "name": "python3",
      "display_name": "Python 3"
    },
    "language_info": {
      "name": "python"
    }
  },
  "cells": [
    {
      "cell_type": "markdown",
      "metadata": {
        "id": "view-in-github",
        "colab_type": "text"
      },
      "source": [
        "<a href=\"https://colab.research.google.com/github/khanson4/Linear_Algebra_Coding_projects/blob/main/Gram_Schmidt_Process_Hanson.ipynb\" target=\"_parent\"><img src=\"https://colab.research.google.com/assets/colab-badge.svg\" alt=\"Open In Colab\"/></a>"
      ]
    },
    {
      "cell_type": "code",
      "execution_count": 1,
      "metadata": {
        "id": "LqyJPTwpPv82"
      },
      "outputs": [],
      "source": [
        "import numpy as np\n",
        "from numpy import c_"
      ]
    },
    {
      "cell_type": "code",
      "source": [
        "# write vectors:\n",
        "r1 = np.array([3, 6, 0])\n",
        "r1\n",
        "# dot product of r1 with itself\n",
        "r1.dot(r1)"
      ],
      "metadata": {
        "colab": {
          "base_uri": "https://localhost:8080/"
        },
        "id": "ixk1qxeJQKnD",
        "outputId": "56b74e69-847a-4931-ee15-a2580cca522b"
      },
      "execution_count": 9,
      "outputs": [
        {
          "output_type": "execute_result",
          "data": {
            "text/plain": [
              "45"
            ]
          },
          "metadata": {},
          "execution_count": 9
        }
      ]
    },
    {
      "cell_type": "code",
      "source": [
        "np.sqrt(45)"
      ],
      "metadata": {
        "colab": {
          "base_uri": "https://localhost:8080/"
        },
        "id": "FAqZArrVREBd",
        "outputId": "5960b23e-4f41-4fd6-95ba-6dd3747131f5"
      },
      "execution_count": 11,
      "outputs": [
        {
          "output_type": "execute_result",
          "data": {
            "text/plain": [
              "6.708203932499369"
            ]
          },
          "metadata": {},
          "execution_count": 11
        }
      ]
    },
    {
      "cell_type": "code",
      "source": [
        "print(\"this is the square root of 45:\", np.sqrt(45))"
      ],
      "metadata": {
        "colab": {
          "base_uri": "https://localhost:8080/"
        },
        "id": "rw7KBawcSWn9",
        "outputId": "50c3cb4c-1061-4070-b4f8-0a3e7672acb2"
      },
      "execution_count": 12,
      "outputs": [
        {
          "output_type": "stream",
          "name": "stdout",
          "text": [
            "this is the square root of 45: 6.708203932499369\n"
          ]
        }
      ]
    },
    {
      "cell_type": "code",
      "source": [
        "# Gram-Schmidt process using the third vector [-4, 2, 0]\n",
        "r3 = np.array([-4, 2, 0])\n",
        "print(\"Our 3rd messy vector is\", r3)\n",
        "\n",
        "# Temoporary vector T3\n",
        "T3 = r3 - (r3.dot(u1)*u1) - (r3.dot(u2)*u2)\n",
        "print(\"Our T3 vector is\", T3)\n",
        "\n",
        "# Find the magnitude of T3\n",
        "n3 = np.sqrt(T3.dot(T3))\n",
        "print(\"the size of T3 is |T3|=\", n3)\n",
        "\n",
        "# renormalize, and create u1:\n",
        "u3 = (1/n3) * T3\n",
        "print(\"u3 = \", u3)"
      ],
      "metadata": {
        "colab": {
          "base_uri": "https://localhost:8080/",
          "height": 258
        },
        "id": "3ITrEfdISrLy",
        "outputId": "91b2f274-4ca2-479c-de51-99382e28a756"
      },
      "execution_count": 41,
      "outputs": [
        {
          "output_type": "stream",
          "name": "stdout",
          "text": [
            "Our 3rd messy vector is [-4  2  0]\n"
          ]
        },
        {
          "output_type": "error",
          "ename": "NameError",
          "evalue": "ignored",
          "traceback": [
            "\u001b[0;31m---------------------------------------------------------------------------\u001b[0m",
            "\u001b[0;31mNameError\u001b[0m                                 Traceback (most recent call last)",
            "\u001b[0;32m<ipython-input-41-3a90584d4d00>\u001b[0m in \u001b[0;36m<module>\u001b[0;34m()\u001b[0m\n\u001b[1;32m      4\u001b[0m \u001b[0;34m\u001b[0m\u001b[0m\n\u001b[1;32m      5\u001b[0m \u001b[0;31m# Temoporary vector T3\u001b[0m\u001b[0;34m\u001b[0m\u001b[0;34m\u001b[0m\u001b[0;34m\u001b[0m\u001b[0m\n\u001b[0;32m----> 6\u001b[0;31m \u001b[0mT3\u001b[0m \u001b[0;34m=\u001b[0m \u001b[0mr3\u001b[0m \u001b[0;34m-\u001b[0m \u001b[0;34m(\u001b[0m\u001b[0mr3\u001b[0m\u001b[0;34m.\u001b[0m\u001b[0mdot\u001b[0m\u001b[0;34m(\u001b[0m\u001b[0mu1\u001b[0m\u001b[0;34m)\u001b[0m\u001b[0;34m*\u001b[0m\u001b[0mu1\u001b[0m\u001b[0;34m)\u001b[0m \u001b[0;34m-\u001b[0m \u001b[0;34m(\u001b[0m\u001b[0mr3\u001b[0m\u001b[0;34m.\u001b[0m\u001b[0mdot\u001b[0m\u001b[0;34m(\u001b[0m\u001b[0mu2\u001b[0m\u001b[0;34m)\u001b[0m\u001b[0;34m*\u001b[0m\u001b[0mu2\u001b[0m\u001b[0;34m)\u001b[0m\u001b[0;34m\u001b[0m\u001b[0;34m\u001b[0m\u001b[0m\n\u001b[0m\u001b[1;32m      7\u001b[0m \u001b[0mprint\u001b[0m\u001b[0;34m(\u001b[0m\u001b[0;34m\"Our T3 vector is\"\u001b[0m\u001b[0;34m,\u001b[0m \u001b[0mT3\u001b[0m\u001b[0;34m)\u001b[0m\u001b[0;34m\u001b[0m\u001b[0;34m\u001b[0m\u001b[0m\n\u001b[1;32m      8\u001b[0m \u001b[0;34m\u001b[0m\u001b[0m\n",
            "\u001b[0;31mNameError\u001b[0m: name 'u2' is not defined"
          ]
        }
      ]
    }
  ]
}